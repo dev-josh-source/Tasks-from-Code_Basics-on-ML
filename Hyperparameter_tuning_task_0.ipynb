{
 "cells": [
  {
   "cell_type": "code",
   "execution_count": 32,
   "id": "e20c79ea",
   "metadata": {},
   "outputs": [],
   "source": [
    "import numpy as np\n",
    "import pandas as pd\n",
    "from sklearn.linear_model import LogisticRegression\n",
    "from sklearn.ensemble import RandomForestClassifier\n",
    "from sklearn.svm import SVC\n",
    "from sklearn.datasets import load_digits "
   ]
  },
  {
   "cell_type": "code",
   "execution_count": 33,
   "id": "4f7e0444",
   "metadata": {},
   "outputs": [],
   "source": [
    "digits = load_digits()"
   ]
  },
  {
   "cell_type": "code",
   "execution_count": 63,
   "id": "e4d04246",
   "metadata": {},
   "outputs": [],
   "source": [
    "X_train, X_test, y_train, y_test = train_test_split(digits.data, digits.target,test_size=0.3)"
   ]
  },
  {
   "cell_type": "code",
   "execution_count": 64,
   "id": "75fd140b",
   "metadata": {},
   "outputs": [
    {
     "data": {
      "text/plain": [
       "0.5314814814814814"
      ]
     },
     "execution_count": 64,
     "metadata": {},
     "output_type": "execute_result"
    }
   ],
   "source": [
    "model = SVC(kernel='rbf',C=30,gamma='auto')\n",
    "model.fit(X_train, y_train)\n",
    "model.score(X_test, y_test)"
   ]
  },
  {
   "cell_type": "code",
   "execution_count": 65,
   "id": "12d0da10",
   "metadata": {},
   "outputs": [],
   "source": [
    "from sklearn.model_selection import cross_val_score"
   ]
  },
  {
   "cell_type": "code",
   "execution_count": 70,
   "id": "953c1eaa",
   "metadata": {},
   "outputs": [
    {
     "data": {
      "text/plain": [
       "array([0.96388889, 0.91944444, 0.96657382, 0.9637883 , 0.92479109])"
      ]
     },
     "execution_count": 70,
     "metadata": {},
     "output_type": "execute_result"
    }
   ],
   "source": [
    "cross_val_score(SVC(kernel='linear',C=10,gamma='auto'),digits.data,digits.target,cv=5)"
   ]
  },
  {
   "cell_type": "code",
   "execution_count": 71,
   "id": "2efc9412",
   "metadata": {},
   "outputs": [
    {
     "data": {
      "text/plain": [
       "array([0.45277778, 0.46944444, 0.47910864, 0.47910864, 0.50139276])"
      ]
     },
     "execution_count": 71,
     "metadata": {},
     "output_type": "execute_result"
    }
   ],
   "source": [
    "cross_val_score(SVC(kernel='rbf',C=10,gamma='auto'),digits.data,digits.target,cv=5)"
   ]
  },
  {
   "cell_type": "code",
   "execution_count": 72,
   "id": "7e3db40f",
   "metadata": {},
   "outputs": [
    {
     "data": {
      "text/plain": [
       "array([0.45277778, 0.46944444, 0.47910864, 0.47910864, 0.50139276])"
      ]
     },
     "execution_count": 72,
     "metadata": {},
     "output_type": "execute_result"
    }
   ],
   "source": [
    "cross_val_score(SVC(kernel='rbf',C=20,gamma='auto'),digits.data,digits.target,cv=5)"
   ]
  },
  {
   "cell_type": "code",
   "execution_count": 73,
   "id": "be7fb533",
   "metadata": {},
   "outputs": [],
   "source": [
    "from sklearn.model_selection import GridSearchCV"
   ]
  },
  {
   "cell_type": "code",
   "execution_count": 75,
   "id": "30e20bbb",
   "metadata": {},
   "outputs": [
    {
     "data": {
      "text/plain": [
       "{'mean_fit_time': array([0.24030217, 0.02517653, 0.23722585, 0.02546962, 0.23143276,\n",
       "        0.02690371]),\n",
       " 'std_fit_time': array([0.01434541, 0.00429291, 0.007026  , 0.0037481 , 0.00043914,\n",
       "        0.00471682]),\n",
       " 'mean_score_time': array([0.11519925, 0.01562881, 0.1105837 , 0.01142343, 0.11004432,\n",
       "        0.01008868]),\n",
       " 'std_score_time': array([3.32423532e-03, 4.30475952e-06, 2.12899678e-04, 9.41903998e-04,\n",
       "        8.82083107e-04, 6.43288496e-06]),\n",
       " 'param_C': masked_array(data=[1, 1, 10, 10, 20, 20],\n",
       "              mask=[False, False, False, False, False, False],\n",
       "        fill_value='?',\n",
       "             dtype=object),\n",
       " 'param_kernel': masked_array(data=['rbf', 'linear', 'rbf', 'linear', 'rbf', 'linear'],\n",
       "              mask=[False, False, False, False, False, False],\n",
       "        fill_value='?',\n",
       "             dtype=object),\n",
       " 'params': [{'C': 1, 'kernel': 'rbf'},\n",
       "  {'C': 1, 'kernel': 'linear'},\n",
       "  {'C': 10, 'kernel': 'rbf'},\n",
       "  {'C': 10, 'kernel': 'linear'},\n",
       "  {'C': 20, 'kernel': 'rbf'},\n",
       "  {'C': 20, 'kernel': 'linear'}],\n",
       " 'split0_test_score': array([0.38063439, 0.93489149, 0.40400668, 0.93489149, 0.40400668,\n",
       "        0.93489149]),\n",
       " 'split1_test_score': array([0.41068447, 0.95826377, 0.43906511, 0.95826377, 0.43906511,\n",
       "        0.95826377]),\n",
       " 'split2_test_score': array([0.51252087, 0.93823038, 0.5375626 , 0.93823038, 0.5375626 ,\n",
       "        0.93823038]),\n",
       " 'mean_test_score': array([0.43461324, 0.94379521, 0.46021146, 0.94379521, 0.46021146,\n",
       "        0.94379521]),\n",
       " 'std_test_score': array([0.05643846, 0.01032122, 0.05653714, 0.01032122, 0.05653714,\n",
       "        0.01032122]),\n",
       " 'rank_test_score': array([6, 1, 4, 1, 4, 1])}"
      ]
     },
     "execution_count": 75,
     "metadata": {},
     "output_type": "execute_result"
    }
   ],
   "source": [
    "clf = GridSearchCV(SVC(gamma='auto'),{\n",
    "    'C': [1,10,20],\n",
    "    'kernel' : ['rbf','linear']\n",
    "},cv=3, return_train_score=False)\n",
    "\n",
    "clf.fit(digits.data,digits.target)\n",
    "clf.cv_results_\n",
    "\n",
    "                  "
   ]
  },
  {
   "cell_type": "code",
   "execution_count": 77,
   "id": "4afd53a9",
   "metadata": {},
   "outputs": [
    {
     "data": {
      "text/html": [
       "<div>\n",
       "<style scoped>\n",
       "    .dataframe tbody tr th:only-of-type {\n",
       "        vertical-align: middle;\n",
       "    }\n",
       "\n",
       "    .dataframe tbody tr th {\n",
       "        vertical-align: top;\n",
       "    }\n",
       "\n",
       "    .dataframe thead th {\n",
       "        text-align: right;\n",
       "    }\n",
       "</style>\n",
       "<table border=\"1\" class=\"dataframe\">\n",
       "  <thead>\n",
       "    <tr style=\"text-align: right;\">\n",
       "      <th></th>\n",
       "      <th>mean_fit_time</th>\n",
       "      <th>std_fit_time</th>\n",
       "      <th>mean_score_time</th>\n",
       "      <th>std_score_time</th>\n",
       "      <th>param_C</th>\n",
       "      <th>param_kernel</th>\n",
       "      <th>params</th>\n",
       "      <th>split0_test_score</th>\n",
       "      <th>split1_test_score</th>\n",
       "      <th>split2_test_score</th>\n",
       "      <th>mean_test_score</th>\n",
       "      <th>std_test_score</th>\n",
       "      <th>rank_test_score</th>\n",
       "    </tr>\n",
       "  </thead>\n",
       "  <tbody>\n",
       "    <tr>\n",
       "      <th>0</th>\n",
       "      <td>0.240302</td>\n",
       "      <td>0.014345</td>\n",
       "      <td>0.115199</td>\n",
       "      <td>0.003324</td>\n",
       "      <td>1</td>\n",
       "      <td>rbf</td>\n",
       "      <td>{'C': 1, 'kernel': 'rbf'}</td>\n",
       "      <td>0.380634</td>\n",
       "      <td>0.410684</td>\n",
       "      <td>0.512521</td>\n",
       "      <td>0.434613</td>\n",
       "      <td>0.056438</td>\n",
       "      <td>6</td>\n",
       "    </tr>\n",
       "    <tr>\n",
       "      <th>1</th>\n",
       "      <td>0.025177</td>\n",
       "      <td>0.004293</td>\n",
       "      <td>0.015629</td>\n",
       "      <td>0.000004</td>\n",
       "      <td>1</td>\n",
       "      <td>linear</td>\n",
       "      <td>{'C': 1, 'kernel': 'linear'}</td>\n",
       "      <td>0.934891</td>\n",
       "      <td>0.958264</td>\n",
       "      <td>0.938230</td>\n",
       "      <td>0.943795</td>\n",
       "      <td>0.010321</td>\n",
       "      <td>1</td>\n",
       "    </tr>\n",
       "    <tr>\n",
       "      <th>2</th>\n",
       "      <td>0.237226</td>\n",
       "      <td>0.007026</td>\n",
       "      <td>0.110584</td>\n",
       "      <td>0.000213</td>\n",
       "      <td>10</td>\n",
       "      <td>rbf</td>\n",
       "      <td>{'C': 10, 'kernel': 'rbf'}</td>\n",
       "      <td>0.404007</td>\n",
       "      <td>0.439065</td>\n",
       "      <td>0.537563</td>\n",
       "      <td>0.460211</td>\n",
       "      <td>0.056537</td>\n",
       "      <td>4</td>\n",
       "    </tr>\n",
       "    <tr>\n",
       "      <th>3</th>\n",
       "      <td>0.025470</td>\n",
       "      <td>0.003748</td>\n",
       "      <td>0.011423</td>\n",
       "      <td>0.000942</td>\n",
       "      <td>10</td>\n",
       "      <td>linear</td>\n",
       "      <td>{'C': 10, 'kernel': 'linear'}</td>\n",
       "      <td>0.934891</td>\n",
       "      <td>0.958264</td>\n",
       "      <td>0.938230</td>\n",
       "      <td>0.943795</td>\n",
       "      <td>0.010321</td>\n",
       "      <td>1</td>\n",
       "    </tr>\n",
       "    <tr>\n",
       "      <th>4</th>\n",
       "      <td>0.231433</td>\n",
       "      <td>0.000439</td>\n",
       "      <td>0.110044</td>\n",
       "      <td>0.000882</td>\n",
       "      <td>20</td>\n",
       "      <td>rbf</td>\n",
       "      <td>{'C': 20, 'kernel': 'rbf'}</td>\n",
       "      <td>0.404007</td>\n",
       "      <td>0.439065</td>\n",
       "      <td>0.537563</td>\n",
       "      <td>0.460211</td>\n",
       "      <td>0.056537</td>\n",
       "      <td>4</td>\n",
       "    </tr>\n",
       "    <tr>\n",
       "      <th>5</th>\n",
       "      <td>0.026904</td>\n",
       "      <td>0.004717</td>\n",
       "      <td>0.010089</td>\n",
       "      <td>0.000006</td>\n",
       "      <td>20</td>\n",
       "      <td>linear</td>\n",
       "      <td>{'C': 20, 'kernel': 'linear'}</td>\n",
       "      <td>0.934891</td>\n",
       "      <td>0.958264</td>\n",
       "      <td>0.938230</td>\n",
       "      <td>0.943795</td>\n",
       "      <td>0.010321</td>\n",
       "      <td>1</td>\n",
       "    </tr>\n",
       "  </tbody>\n",
       "</table>\n",
       "</div>"
      ],
      "text/plain": [
       "   mean_fit_time  std_fit_time  mean_score_time  std_score_time param_C  \\\n",
       "0       0.240302      0.014345         0.115199        0.003324       1   \n",
       "1       0.025177      0.004293         0.015629        0.000004       1   \n",
       "2       0.237226      0.007026         0.110584        0.000213      10   \n",
       "3       0.025470      0.003748         0.011423        0.000942      10   \n",
       "4       0.231433      0.000439         0.110044        0.000882      20   \n",
       "5       0.026904      0.004717         0.010089        0.000006      20   \n",
       "\n",
       "  param_kernel                         params  split0_test_score  \\\n",
       "0          rbf      {'C': 1, 'kernel': 'rbf'}           0.380634   \n",
       "1       linear   {'C': 1, 'kernel': 'linear'}           0.934891   \n",
       "2          rbf     {'C': 10, 'kernel': 'rbf'}           0.404007   \n",
       "3       linear  {'C': 10, 'kernel': 'linear'}           0.934891   \n",
       "4          rbf     {'C': 20, 'kernel': 'rbf'}           0.404007   \n",
       "5       linear  {'C': 20, 'kernel': 'linear'}           0.934891   \n",
       "\n",
       "   split1_test_score  split2_test_score  mean_test_score  std_test_score  \\\n",
       "0           0.410684           0.512521         0.434613        0.056438   \n",
       "1           0.958264           0.938230         0.943795        0.010321   \n",
       "2           0.439065           0.537563         0.460211        0.056537   \n",
       "3           0.958264           0.938230         0.943795        0.010321   \n",
       "4           0.439065           0.537563         0.460211        0.056537   \n",
       "5           0.958264           0.938230         0.943795        0.010321   \n",
       "\n",
       "   rank_test_score  \n",
       "0                6  \n",
       "1                1  \n",
       "2                4  \n",
       "3                1  \n",
       "4                4  \n",
       "5                1  "
      ]
     },
     "execution_count": 77,
     "metadata": {},
     "output_type": "execute_result"
    }
   ],
   "source": [
    "df = pd.DataFrame(clf.cv_results_)\n",
    "df"
   ]
  },
  {
   "cell_type": "code",
   "execution_count": 79,
   "id": "ecc3866a",
   "metadata": {},
   "outputs": [
    {
     "data": {
      "text/html": [
       "<div>\n",
       "<style scoped>\n",
       "    .dataframe tbody tr th:only-of-type {\n",
       "        vertical-align: middle;\n",
       "    }\n",
       "\n",
       "    .dataframe tbody tr th {\n",
       "        vertical-align: top;\n",
       "    }\n",
       "\n",
       "    .dataframe thead th {\n",
       "        text-align: right;\n",
       "    }\n",
       "</style>\n",
       "<table border=\"1\" class=\"dataframe\">\n",
       "  <thead>\n",
       "    <tr style=\"text-align: right;\">\n",
       "      <th></th>\n",
       "      <th>param_C</th>\n",
       "      <th>param_kernel</th>\n",
       "      <th>mean_test_score</th>\n",
       "    </tr>\n",
       "  </thead>\n",
       "  <tbody>\n",
       "    <tr>\n",
       "      <th>0</th>\n",
       "      <td>1</td>\n",
       "      <td>rbf</td>\n",
       "      <td>0.434613</td>\n",
       "    </tr>\n",
       "    <tr>\n",
       "      <th>1</th>\n",
       "      <td>1</td>\n",
       "      <td>linear</td>\n",
       "      <td>0.943795</td>\n",
       "    </tr>\n",
       "    <tr>\n",
       "      <th>2</th>\n",
       "      <td>10</td>\n",
       "      <td>rbf</td>\n",
       "      <td>0.460211</td>\n",
       "    </tr>\n",
       "    <tr>\n",
       "      <th>3</th>\n",
       "      <td>10</td>\n",
       "      <td>linear</td>\n",
       "      <td>0.943795</td>\n",
       "    </tr>\n",
       "    <tr>\n",
       "      <th>4</th>\n",
       "      <td>20</td>\n",
       "      <td>rbf</td>\n",
       "      <td>0.460211</td>\n",
       "    </tr>\n",
       "    <tr>\n",
       "      <th>5</th>\n",
       "      <td>20</td>\n",
       "      <td>linear</td>\n",
       "      <td>0.943795</td>\n",
       "    </tr>\n",
       "  </tbody>\n",
       "</table>\n",
       "</div>"
      ],
      "text/plain": [
       "  param_C param_kernel  mean_test_score\n",
       "0       1          rbf         0.434613\n",
       "1       1       linear         0.943795\n",
       "2      10          rbf         0.460211\n",
       "3      10       linear         0.943795\n",
       "4      20          rbf         0.460211\n",
       "5      20       linear         0.943795"
      ]
     },
     "execution_count": 79,
     "metadata": {},
     "output_type": "execute_result"
    }
   ],
   "source": [
    "df[['param_C','param_kernel', 'mean_test_score']]"
   ]
  },
  {
   "cell_type": "code",
   "execution_count": 80,
   "id": "3c992d44",
   "metadata": {},
   "outputs": [
    {
     "data": {
      "text/plain": [
       "['__abstractmethods__',\n",
       " '__class__',\n",
       " '__delattr__',\n",
       " '__dict__',\n",
       " '__dir__',\n",
       " '__doc__',\n",
       " '__eq__',\n",
       " '__format__',\n",
       " '__ge__',\n",
       " '__getattribute__',\n",
       " '__getstate__',\n",
       " '__gt__',\n",
       " '__hash__',\n",
       " '__init__',\n",
       " '__init_subclass__',\n",
       " '__le__',\n",
       " '__lt__',\n",
       " '__module__',\n",
       " '__ne__',\n",
       " '__new__',\n",
       " '__reduce__',\n",
       " '__reduce_ex__',\n",
       " '__repr__',\n",
       " '__setattr__',\n",
       " '__setstate__',\n",
       " '__sizeof__',\n",
       " '__str__',\n",
       " '__subclasshook__',\n",
       " '__weakref__',\n",
       " '_abc_impl',\n",
       " '_check_is_fitted',\n",
       " '_check_n_features',\n",
       " '_check_refit_for_multimetric',\n",
       " '_estimator_type',\n",
       " '_format_results',\n",
       " '_get_param_names',\n",
       " '_get_tags',\n",
       " '_more_tags',\n",
       " '_pairwise',\n",
       " '_repr_html_',\n",
       " '_repr_html_inner',\n",
       " '_repr_mimebundle_',\n",
       " '_required_parameters',\n",
       " '_run_search',\n",
       " '_validate_data',\n",
       " 'best_estimator_',\n",
       " 'best_index_',\n",
       " 'best_params_',\n",
       " 'best_score_',\n",
       " 'classes_',\n",
       " 'cv',\n",
       " 'cv_results_',\n",
       " 'decision_function',\n",
       " 'error_score',\n",
       " 'estimator',\n",
       " 'fit',\n",
       " 'get_params',\n",
       " 'inverse_transform',\n",
       " 'multimetric_',\n",
       " 'n_features_in_',\n",
       " 'n_jobs',\n",
       " 'n_splits_',\n",
       " 'param_grid',\n",
       " 'pre_dispatch',\n",
       " 'predict',\n",
       " 'predict_log_proba',\n",
       " 'predict_proba',\n",
       " 'refit',\n",
       " 'refit_time_',\n",
       " 'return_train_score',\n",
       " 'score',\n",
       " 'score_samples',\n",
       " 'scorer_',\n",
       " 'scoring',\n",
       " 'set_params',\n",
       " 'transform',\n",
       " 'verbose']"
      ]
     },
     "execution_count": 80,
     "metadata": {},
     "output_type": "execute_result"
    }
   ],
   "source": [
    "dir(clf)"
   ]
  },
  {
   "cell_type": "code",
   "execution_count": 81,
   "id": "4331ddf7",
   "metadata": {},
   "outputs": [
    {
     "data": {
      "text/plain": [
       "0.9437952142459656"
      ]
     },
     "execution_count": 81,
     "metadata": {},
     "output_type": "execute_result"
    }
   ],
   "source": [
    "clf.best_score_"
   ]
  },
  {
   "cell_type": "code",
   "execution_count": 83,
   "id": "6ec14052",
   "metadata": {},
   "outputs": [
    {
     "data": {
      "text/plain": [
       "{'C': 1, 'kernel': 'linear'}"
      ]
     },
     "execution_count": 83,
     "metadata": {},
     "output_type": "execute_result"
    }
   ],
   "source": [
    "clf.best_params_"
   ]
  },
  {
   "cell_type": "code",
   "execution_count": 102,
   "id": "086c7577",
   "metadata": {},
   "outputs": [
    {
     "data": {
      "text/html": [
       "<div>\n",
       "<style scoped>\n",
       "    .dataframe tbody tr th:only-of-type {\n",
       "        vertical-align: middle;\n",
       "    }\n",
       "\n",
       "    .dataframe tbody tr th {\n",
       "        vertical-align: top;\n",
       "    }\n",
       "\n",
       "    .dataframe thead th {\n",
       "        text-align: right;\n",
       "    }\n",
       "</style>\n",
       "<table border=\"1\" class=\"dataframe\">\n",
       "  <thead>\n",
       "    <tr style=\"text-align: right;\">\n",
       "      <th></th>\n",
       "      <th>param_C</th>\n",
       "      <th>param_kernel</th>\n",
       "      <th>mean_test_score</th>\n",
       "    </tr>\n",
       "  </thead>\n",
       "  <tbody>\n",
       "    <tr>\n",
       "      <th>0</th>\n",
       "      <td>20</td>\n",
       "      <td>linear</td>\n",
       "      <td>0.947697</td>\n",
       "    </tr>\n",
       "    <tr>\n",
       "      <th>1</th>\n",
       "      <td>10</td>\n",
       "      <td>linear</td>\n",
       "      <td>0.947697</td>\n",
       "    </tr>\n",
       "  </tbody>\n",
       "</table>\n",
       "</div>"
      ],
      "text/plain": [
       "  param_C param_kernel  mean_test_score\n",
       "0      20       linear         0.947697\n",
       "1      10       linear         0.947697"
      ]
     },
     "execution_count": 102,
     "metadata": {},
     "output_type": "execute_result"
    }
   ],
   "source": [
    "from sklearn.model_selection import RandomizedSearchCV\n",
    "rs = RandomizedSearchCV(SVC(gamma='auto'),{\n",
    "        'C' : [1,10,20],\n",
    "        'kernel' : ['rbf','linear']\n",
    "   },\n",
    "   cv=5,\n",
    "   return_train_score=False,\n",
    "   n_iter=2 \n",
    ")\n",
    "rs.fit(digits.data,digits.target)\n",
    "pd.DataFrame(rs.cv_results_)[['param_C','param_kernel','mean_test_score']]"
   ]
  },
  {
   "cell_type": "code",
   "execution_count": 146,
   "id": "1eef2b26",
   "metadata": {},
   "outputs": [],
   "source": [
    "from sklearn import svm\n",
    "from sklearn.ensemble import RandomForestClassifier\n",
    "from sklearn.linear_model import LogisticRegression\n",
    "from sklearn.naive_bayes import GaussianNB\n",
    "from sklearn.naive_bayes import MultinomialNB\n",
    "from sklearn.tree import DecisionTreeClassifier"
   ]
  },
  {
   "cell_type": "code",
   "execution_count": 158,
   "id": "2484b2c2",
   "metadata": {},
   "outputs": [],
   "source": [
    "model_params ={\n",
    "    'svm':{\n",
    "        'model':svm.SVC(gamma='auto'),\n",
    "        'params':{\n",
    "            'C':[1,10,20],\n",
    "            'kernel':['rbf','linear']\n",
    "        }\n",
    "\n",
    "   },\n",
    "    'random_forest':{\n",
    "        'model':RandomForestClassifier(),\n",
    "        'params':{\n",
    "            'n_estimators': [1,5,10]\n",
    "        }\n",
    "    },\n",
    "    'LogisticRegression':{\n",
    "        'model': LogisticRegression(solver='liblinear',multi_class='auto'),\n",
    "        'params':{\n",
    "            'C':[1,5,10]\n",
    "        }\n",
    "    },\n",
    "    'GaussianNB':{\n",
    "        'model':GaussianNB(),\n",
    "        'params':{}  \n",
    "    },\n",
    "    'MultinomialNB':{\n",
    "        'model':MultinomialNB(),\n",
    "        'params':{} \n",
    "    },\n",
    "    'DecisionTree':{\n",
    "        'model':DecisionTreeClassifier(),\n",
    "        'params':{\n",
    "           'criterion':['gini','entropy'] ,\n",
    "        }    \n",
    "    }\n",
    "}"
   ]
  },
  {
   "cell_type": "code",
   "execution_count": 159,
   "id": "327212d2",
   "metadata": {},
   "outputs": [],
   "source": [
    "from sklearn.model_selection import GridSearchCV\n",
    "import pandas as pd\n",
    "scores = []\n",
    "\n",
    "for model_name,mp in model_params.items():\n",
    "    clf = GridSearchCV(mp['model'],mp['params'],cv=3,return_train_score=False)\n",
    "    clf.fit(digits.data, digits.target)\n",
    "    scores.append({\n",
    "         'model': model_name,\n",
    "        'best_score': clf.best_score_,\n",
    "        'best_params':clf.best_params_\n",
    "    })"
   ]
  },
  {
   "cell_type": "code",
   "execution_count": 160,
   "id": "52b14bd4",
   "metadata": {},
   "outputs": [
    {
     "data": {
      "text/html": [
       "<div>\n",
       "<style scoped>\n",
       "    .dataframe tbody tr th:only-of-type {\n",
       "        vertical-align: middle;\n",
       "    }\n",
       "\n",
       "    .dataframe tbody tr th {\n",
       "        vertical-align: top;\n",
       "    }\n",
       "\n",
       "    .dataframe thead th {\n",
       "        text-align: right;\n",
       "    }\n",
       "</style>\n",
       "<table border=\"1\" class=\"dataframe\">\n",
       "  <thead>\n",
       "    <tr style=\"text-align: right;\">\n",
       "      <th></th>\n",
       "      <th>model</th>\n",
       "      <th>best_score</th>\n",
       "      <th>best_params</th>\n",
       "    </tr>\n",
       "  </thead>\n",
       "  <tbody>\n",
       "    <tr>\n",
       "      <th>0</th>\n",
       "      <td>svm</td>\n",
       "      <td>0.943795</td>\n",
       "      <td>{'C': 1, 'kernel': 'linear'}</td>\n",
       "    </tr>\n",
       "    <tr>\n",
       "      <th>1</th>\n",
       "      <td>random_forest</td>\n",
       "      <td>0.902059</td>\n",
       "      <td>{'n_estimators': 10}</td>\n",
       "    </tr>\n",
       "    <tr>\n",
       "      <th>2</th>\n",
       "      <td>LogisticRegression</td>\n",
       "      <td>0.919310</td>\n",
       "      <td>{'C': 1}</td>\n",
       "    </tr>\n",
       "    <tr>\n",
       "      <th>3</th>\n",
       "      <td>GaussianNB</td>\n",
       "      <td>0.813578</td>\n",
       "      <td>{}</td>\n",
       "    </tr>\n",
       "    <tr>\n",
       "      <th>4</th>\n",
       "      <td>MultinomialNB</td>\n",
       "      <td>0.870896</td>\n",
       "      <td>{}</td>\n",
       "    </tr>\n",
       "    <tr>\n",
       "      <th>5</th>\n",
       "      <td>DecisionTree</td>\n",
       "      <td>0.783528</td>\n",
       "      <td>{'criterion': 'gini'}</td>\n",
       "    </tr>\n",
       "  </tbody>\n",
       "</table>\n",
       "</div>"
      ],
      "text/plain": [
       "                model  best_score                   best_params\n",
       "0                 svm    0.943795  {'C': 1, 'kernel': 'linear'}\n",
       "1       random_forest    0.902059          {'n_estimators': 10}\n",
       "2  LogisticRegression    0.919310                      {'C': 1}\n",
       "3          GaussianNB    0.813578                            {}\n",
       "4       MultinomialNB    0.870896                            {}\n",
       "5        DecisionTree    0.783528         {'criterion': 'gini'}"
      ]
     },
     "execution_count": 160,
     "metadata": {},
     "output_type": "execute_result"
    }
   ],
   "source": [
    "df = pd.DataFrame(scores,columns=['model','best_score','best_params'])\n",
    "df"
   ]
  },
  {
   "cell_type": "code",
   "execution_count": null,
   "id": "d4968f09",
   "metadata": {},
   "outputs": [],
   "source": []
  }
 ],
 "metadata": {
  "kernelspec": {
   "display_name": "Python 3",
   "language": "python",
   "name": "python3"
  },
  "language_info": {
   "codemirror_mode": {
    "name": "ipython",
    "version": 3
   },
   "file_extension": ".py",
   "mimetype": "text/x-python",
   "name": "python",
   "nbconvert_exporter": "python",
   "pygments_lexer": "ipython3",
   "version": "3.8.8"
  }
 },
 "nbformat": 4,
 "nbformat_minor": 5
}
